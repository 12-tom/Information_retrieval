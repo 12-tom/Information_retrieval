{
  "nbformat": 4,
  "nbformat_minor": 0,
  "metadata": {
    "colab": {
      "provenance": [],
      "mount_file_id": "1_UCjnyAQYFuAcgIqXywia5_GH05IsPix",
      "authorship_tag": "ABX9TyMyg76i2GUlsrKTnUIF0tIe",
      "include_colab_link": true
    },
    "kernelspec": {
      "name": "python3",
      "display_name": "Python 3"
    },
    "language_info": {
      "name": "python"
    }
  },
  "cells": [
    {
      "cell_type": "markdown",
      "metadata": {
        "id": "view-in-github",
        "colab_type": "text"
      },
      "source": [
        "<a href=\"https://colab.research.google.com/github/12-tom/spam-classification/blob/main/boolean_retrieval.ipynb\" target=\"_parent\"><img src=\"https://colab.research.google.com/assets/colab-badge.svg\" alt=\"Open In Colab\"/></a>"
      ]
    },
    {
      "cell_type": "code",
      "execution_count": 1,
      "metadata": {
        "id": "keDGCPwecBbF"
      },
      "outputs": [],
      "source": [
        "import os\n",
        "import nltk\n",
        "import nltk.corpus\n",
        "import pandas as pd"
      ]
    },
    {
      "cell_type": "code",
      "source": [
        "doc_list=[r\"/content/drive/MyDrive/sample1.txt\", r\"/content/drive/MyDrive/sample2.txt\", r\"/content/drive/MyDrive/sample3.txt\"]\n",
        "import string\n",
        "token_list=[]\n",
        "for i in doc_list:\n",
        "  df=open(i, \"r\")\n",
        "  r=df.read()\n",
        "  punc_r = r.translate(str.maketrans('', '', string.punctuation))\n",
        "  token_list.append(punc_r.split())\n",
        "print(token_list)"
      ],
      "metadata": {
        "colab": {
          "base_uri": "https://localhost:8080/"
        },
        "id": "de_q6bAyo2U1",
        "outputId": "85836fd6-3652-4479-c7d0-9dbdcf2286cd"
      },
      "execution_count": 2,
      "outputs": [
        {
          "output_type": "stream",
          "name": "stdout",
          "text": [
            "[['Friendship', 'was', 'sought', 'for', 'the', 'sake', 'of', 'utility', 'The', 'customer', 'is', 'very', 'important', 'the', 'customer', 'will', 'be', 'followed', 'by', 'the', 'customer', 'Therefore', 'this', 'contribution', 'is', 'of', 'no', 'help', 'to', 'you', 'Honest', 'speech', 'Socratic', 'even', 'Platos', 'First', 'it', 'is', 'in', 'our', 'power', 'what', 'do', 'we', 'remember', 'Two', 'Kings', 'The', 'Construction', 'of', 'the', 'Internet', 'What', 'if', 'it', 'is', 'also', 'a', 'pleasant', 'memory', 'of', 'the', 'bad', 'past', 'If', 'indeed', 'he', 'said', 'I', 'would', 'take', 'it', 'but', 'I', 'leave', 'it', 'Or', 'is', 'it', 'only', 'a', 'popular', 'report', 'Although', 'it', 'is', 'permissible', 'for', 'those', 'who', 'read', 'it', 'to', 'think', 'so', 'The', 'highest', 'good', 'is', 'called', 'pleasure', 'by', 'you', 'But', 'this', 'M', 'refers', 'however', 'in', 'what', 'manner', 'They', 'see', 'what', 'follows', 'and', 'what', 'contradicts', 'I', 'have', 'now', 'neglected', 'that', 'very', 'absurdity', 'the', 'greatest', 'evil'], ['For', 'it', 'equally', 'happens', 'to', 'all', 'believers', 'that', 'they', 'are', 'discontented', 'The', 'customer', 'is', 'very', 'important', 'the', 'customer', 'will', 'be', 'followed', 'by', 'the', 'customer', 'These', 'things', 'being', 'so', 'the', 'result', 'is', 'that', 'there', 'is', 'nothing', 'evil', 'that', 'is', 'not', 'shameful', 'And', 'so', 'it', 'is', 'ours—and', 'I', 'mean', 'ours', 'it', 'is', 'our', 'art—to', 'those', 'principles', 'which', 'we', 'have', 'received', 'That', 'is', 'the', 'complete', 'opposite', 'Two', 'Kings', 'The', 'Construction', 'of', 'the', 'Internet', 'But', 'this', 'passage', 'Piso', 'is', 'to', 'be', 'confirmed', 'to', 'you', 'again', 'and', 'again', 'I', 'say', 'For', 'although', 'they', 'are', 'not', 'perverted', 'they', 'may', 'still', 'be', 'perverted', 'For', 'we', 'will', 'have', 'to', 'take', 'the', 'institutions', 'of', 'two', 'lives', 'So', 'we', 'are', 'not', 'asking', 'about', 'a', 'villain', 'but', 'about', 'a', 'clever', 'villain', 'such', 'as', 'Q', 'Indeed', 'I', 'hear', 'the', 'voice', 'of', 'the', 'philosopher', 'Epicurus', 'but', 'you', 'have', 'forgotten', 'what', 'to', 'say', 'to', 'you', 'From', 'this', 'difficulty', 'as', 'Accius', 'says', 'those', 'deceitful', 'talkers', 'were', 'born', 'of', 'malice', 'But', 'many', 'bad', 'feelings', 'For', 'the', 'things', 'by', 'which', 'pleasures', 'are', 'produced', 'are', 'not', 'in', 'the', 'power', 'of', 'the', 'wise', 'Who', 'is', 'so', 'unlike', 'man', 'So', 'that', 'there', 'are', 'no', 'proverbs', 'truer', 'than', 'your', 'dogmas', 'If', 'anything', 'besides', 'virtue', 'is', 'to', 'be', 'considered', 'in', 'goods', 'But', 'he', 'clearly', 'says', 'what', 'he', 'understands', 'Paulus', 'when', 'he', 'was', 'bringing', 'the', 'Persian', 'king', 'captive', 'was', 'he', 'transported', 'by', 'the', 'same', 'river', 'He', 'who', 'is', 'thus', 'affected', 'you', 'will', 'never', 'prove', 'to', 'be', 'happy', 'But', 'too', 'much', 'For', 'every', 'one', 'will', 'be', 'able', 'to', 'depart', 'from', 'himself', 'before', 'he', 'loses', 'his', 'appetite', 'for', 'those', 'things', 'which', 'are', 'conducive', 'to', 'him', 'I', 'believe', 'that', 'you', 'mean', 'our', 'relatives', 'Sirone', 'and', 'Philodemus', 'both', 'excellent', 'men', 'and', 'learned', 'men', 'Dont', 'expect', 'that', 'from', 'me', 'now', 'What', 'then', 'Is', 'it', 'the', 'same', 'thing', 'that', 'you', 'are', 'resisting', 'Thus', 'he', 'will', 'leave', 'two', 'of', 'which', 'he', 'will', 'consider', 'again', 'and', 'again', 'Let', 'us', 'see', 'what', 'you', 'said', 'about', 'friendship', 'The', 'same', 'things', 'remain', 'in', 'a', 'different', 'way', 'What', 'then', 'is', 'the', 'point', 'of', 'speaking', 'gloriously', 'except', 'to', 'speak', 'constantly', 'Of', 'the', 'former', 'kind', 'is', 'docility', 'memory', 'He', 'says', 'that', 'these', 'things', 'are', 'important', 'and', 'that', 'they', 'cannot', 'be', 'lived', 'by', 'any', 'means', 'Blessed', 'he', 'said', 'But', 'I', 'think', 'that', 'there', 'is', 'no', 'judgment', 'of', 'beasts', 'Whom', 'the', 'descent', 'of', 'the', 'Tiber', 'on', 'that', 'festival', 'day', 'caused', 'so', 'much', 'joy', 'as', 'much', 'as', 'L', 'Of', 'whom', 'nothing', 'should', 'be', 'thought', 'to', 'be', 'done', 'without', 'cause', 'Three', 'kinds', 'of', 'goods', 'Now', 'I', 'will', 'tell', 'you', 'about', 'pleasure', 'of', 'course', 'I', 'know', 'nothing', 'about', 'it', 'but', 'I', 'trust', 'that', 'you', 'yourself', 'will', 'prove', 'it', 'I', 'mean', 'that', 'what', 'he', 'says', 'is', 'perfectly', 'coherent', 'Can', 'we', 'say', 'the', 'same', 'Torquatus', 'Now', 'you', 'try', 'it', 'on', 'him', 'Why', 'go', 'to', 'Archyta', 'after', 'Tarentum', 'They', 'indicate', 'the', 'children', 'in', 'whom', 'nature', 'is', 'seen', 'as', 'in', 'mirrors', 'But', 'still', 'there', 'is', 'something', 'which', 'is', 'not', 'permitted', 'to', 'us', 'but', 'is', 'permitted', 'to', 'them', 'The', 'pain', 'is', 'usually', 'mitigated', 'by', 'the', 'fuel', 'of', 'strength', 'greatness', 'of', 'mind', 'patience', 'and', 'fortitude', 'In', 'this', 'way', 'then', 'my', 'best', 'husband', 'and', 'as', 'you', 'know', 'most', 'loving', 'to', 'you', 'Not', 'altogether', 'says', 'he', 'I', 'say', 'that', 'all', 'who', 'are', 'without', 'pain', 'are', 'in', 'pleasure', 'and', 'that', 'indeed', 'is', 'the', 'highest', 'Rather', 'it', 'inflames', 'so', 'that', 'they', 'seem', 'to', 'be', 'controlling', 'rather', 'than', 'teaching', 'The', 'pain', 'is', 'usually', 'mitigated', 'by', 'the', 'fuel', 'of', 'strength', 'greatness', 'of', 'mind', 'patience', 'and', 'fortitude', 'Almost', 'all', 'things', 'are', 'called', 'by', 'the', 'one', 'name', 'of', 'genius', 'and', 'those', 'who', 'have', 'these', 'virtues', 'are', 'called', 'geniuses', 'For', 'neither', 'is', 'he', 'righteous', 'as', 'long', 'as', 'he', 'fears', 'and', 'certainly', 'if', 'he', 'ceases', 'to', 'fear', 'he', 'will', 'not', 'be'], ['Indeed', 'I', 'do', 'not', 'criticize', 'The', 'customer', 'is', 'very', 'important', 'the', 'customer', 'will', 'be', 'followed', 'by', 'the', 'customer', 'To', 'which', 'nature', 'rightly', 'answered', 'that', 'it', 'was', 'not', 'true', 'that', 'the', 'end', 'of', 'a', 'happy', 'life', 'should', 'come', 'from', 'another', 'that', 'the', 'principles', 'of', 'conduct', 'should', 'be', 'sought', 'from', 'oneself', 'For', 'the', 'things', 'which', 'you', 'have', 'yet', 'brought', 'forth', 'are', 'popular', 'but', 'I', 'want', 'more', 'refinements', 'from', 'you', 'Two', 'Kings', 'The', 'Construction', 'of', 'the', 'Internet', 'Then', 'Lucius', 'As', 'for', 'me', 'these', 'things', 'were', 'very', 'approved', 'as', 'I', 'think', 'also', 'for', 'my', 'brother', 'But', 'I', 'think', 'that', 'there', 'is', 'no', 'judgment', 'of', 'beasts', 'For', 'you', 'no', 'longer', 'have', 'anything', 'to', 'refer', 'to', 'the', 'body', 'Then', 'the', 'first', 'thing', 'which', 'we', 'usually', 'do', 'in', 'meeting', 'What', 'are', 'you', 'doing', 'here', 'And', 'shall', 'we', 'say', 'that', 'man', 'who', 'does', 'so', 'much', 'for', 'other', 'living', 'beings', 'has', 'been', 'given', 'nothing', 'especially', 'by', 'nature', 'I', 'have', 'now', 'neglected', 'that', 'very', 'absurdity', 'the', 'greatest', 'evil', 'By', 'pretending', 'that', 'they', 'do', 'not', 'occur', 'they', 'defeat', 'Ariston', 'But', 'it', 'is', 'clear', 'that', 'man', 'consists', 'of', 'body', 'and', 'mind', 'since', 'the', 'first', 'parts', 'are', 'the', 'soul', 'the', 'second', 'parts', 'are', 'the', 'body', 'It', 'cannot', 'be', 'done', 'I', 'say', 'by', 'any', 'agreement', 'so', 'that', 'you', 'do', 'not', 'say', 'what', 'you', 'do', 'not', 'prove', 'of', 'him', 'with', 'whom', 'you', 'disagree', 'Indeed', 'from', 'Cn', 'Is', 'there', 'any', 'doubt', 'that', 'virtue', 'should', 'take', 'such', 'a', 'large', 'part', 'in', 'human', 'affairs', 'that', 'it', 'overwhelms', 'the', 'rest', 'Who', 'is', 'afraid', 'of', 'this', 'pain', 'Cant', 'stay', 'in', 'high', 'pain', 'for', 'several', 'days', 'Virtue', 'itself', 'will', 'say', 'for', 'me', 'and', 'will', 'not', 'doubt', 'that', 'these', 'were', 'your', 'blessed', 'M', 'Tubulum', 'by', 'which', 'he', 'at', 'whose', 'proposal', 'he', 'was', 'condemned', 'P', 'But', 'if', 'this', 'is', 'so', 'I', 'do', 'not', 'know', 'why', 'the', 'works', 'of', 'philosophy', 'should', 'be', 'given', 'For', 'from', 'their', 'writings', 'and', 'institutions', 'with', 'all', 'liberal', 'doctrine', 'all', 'history', 'If', 'this', 'is', 'so', 'it', 'follows', 'from', 'the', 'very', 'thing', 'that', 'I', 'see', 'you', 'wish', 'that', 'all', 'should', 'be', 'always', 'happy', 'and', 'wise', 'For', 'when', 'it', 'is', 'delivered', 'like', 'a', 'torrent', 'of', 'prayer', 'although', 'it', 'seizes', 'many', 'things', 'of', 'every', 'kind', 'yet', 'hold', 'nothing', 'grasp', 'nothing', 'and', 'never', 'check', 'the', 'rapid', 'prayer', 'Thus', 'he', 'himself', 'is', 'rebuked', 'by', 'himself', 'and', 'his', 'writings', 'are', 'convinced', 'of', 'his', 'honesty', 'and', 'character', 'But', 'how', 'much', 'they', 'try', 'All', 'this', 'world', 'is', 'our', 'town', 'You', 'see', 'therefore', 'that', 'those', 'who', 'hear', 'are', 'set', 'on', 'fire', 'Take', 'care', 'I', 'say', 'that', 'it', 'should', 'not', 'be', 'yours', 'more', 'when', 'the', 'matter', 'seems', 'to', 'you', 'to', 'be', 'the', 'same', 'as', 'to', 'me', 'and', 'that', 'you', 'do', 'not', 'give', 'new', 'names', 'to', 'things', 'Whom', 'we', 'send', 'to', 'search', 'in', 'truth', 'falsely', 'is', 'said', 'to', 'have', 'deprived', 'himself', 'of', 'his', 'eyes', 'If', 'these', 'are', 'the', 'evils', 'into', 'which', 'a', 'wise', 'man', 'may', 'fall', 'it', 'is', 'not', 'enough', 'to', 'be', 'wise', 'to', 'live', 'happily', 'But', 'indeed', 'if', 'sense', 'comes', 'to', 'the', 'vine', 'so', 'that', 'it', 'has', 'a', 'certain', 'appetite', 'and', 'is', 'moved', 'by', 'itself', 'what', 'do', 'you', 'think', 'it', 'will', 'do', 'If', 'you', 'keep', 'him', 'you', 'may', 'not', 'only', 'take', 'away', 'my', 'Cicero', 'but', 'also', 'myself', 'But', 'fools', 'are', 'tormented', 'by', 'the', 'memory', 'of', 'evils', 'wise', 'men', 'delight', 'in', 'the', 'renewed', 'remembrance', 'of', 'the', 'good', 'things', 'of', 'the', 'past', 'For', 'he', 'could', 'be', 'just', 'as', 'unjust', 'as', 'he', 'wished', 'But', 'what', 'was', 'the', 'nature', 'of', 'his', 'first', 'institution', 'forgotten', 'It', 'is', 'true', 'however', 'when', 'you', 'speak', 'of', 'greater', 'things', 'the', 'things', 'themselves', 'snatch', 'away', 'the', 'words', 'This', 'means', 'not', 'only', 'that', 'he', 'does', 'not', 'have', 'a', 'heart', 'but', 'that', 'he', 'does', 'not', 'even', 'have', 'a', 'palate', 'When', 'he', 'called', 'pleasure', 'the', 'highest', 'good', 'he', 'first', 'saw', 'little', 'in', 'it', 'itself', 'and', 'then', 'this', 'also', 'as', 'something', 'alien', 'But', 'you', 'said', 'it', 'well', 'in', 'Latin', 'a', 'little', 'plainly', 'For', 'these', 'very', 'things', 'will', 'be', 'ready', 'for', 'me', 'which', 'I', 'have', 'just', 'heard', 'and', 'I', 'will', 'not', 'attack', 'before', 'I', 'see', 'you', 'instructed', 'by', 'those', 'whom', 'you', 'speak', 'of', 'The', 'Stoics', 'will', 'admit', 'that', 'all', 'this', 'was', 'said', 'very', 'clearly', 'and', 'that', 'it', 'was', 'not', 'the', 'cause', 'of', 'Zenos', 'disobedience', 'But', 'not', 'this', 'therefore', 'not', 'even', 'that', 'Indeed', 'your', 'reason', 'is', 'so', 'compelling', 'When', 'I', 'had', 'heard', 'Antiochus', 'Brute', 'as', 'I', 'used', 'to', 'when', 'M', 'Or', 'that', 'she', 'is', 'so', 'clever', 'that', 'she', 'can', 'best', 'architect', 'pleasures', 'Is', 'it', 'the', 'same', 'as', 'pleasant', 'This', 'seems', 'to', 'me', 'to', 'be', 'more', 'delicate', 'so', 'to', 'speak', 'and', 'a', 'softer', 'reason', 'than', 'the', 'strength', 'and', 'gravity', 'of', 'virtue', 'demands', 'But', 'since', 'it', 'is', 'getting', 'late', 'and', 'I', 'have', 'to', 'return', 'to', 'the', 'village', 'now', 'indeed', 'until', 'now', 'Philosophers', 'call', 'that', 'true', 'reason', 'and', 'the', 'supreme', 'law', 'which', 'is', 'appropriate', 'to', 'his', 'nature', 'They', 'said', 'that', 'they', 'were', 'not', 'only', 'common', 'but', 'also', 'equal', 'But', 'now', 'what', 'we', 'do', 'Where', 'are', 'you', 'from']]\n"
          ]
        }
      ]
    },
    {
      "cell_type": "code",
      "source": [
        "from nltk.corpus import stopwords\n",
        "nltk.download('stopwords')\n",
        "stop_words = stopwords.words('english')\n",
        "print(stop_words)"
      ],
      "metadata": {
        "colab": {
          "base_uri": "https://localhost:8080/"
        },
        "id": "SbYv1EYTQyd3",
        "outputId": "0b828355-91b6-484f-bedc-219bcacfd147"
      },
      "execution_count": 3,
      "outputs": [
        {
          "output_type": "stream",
          "name": "stdout",
          "text": [
            "['i', 'me', 'my', 'myself', 'we', 'our', 'ours', 'ourselves', 'you', \"you're\", \"you've\", \"you'll\", \"you'd\", 'your', 'yours', 'yourself', 'yourselves', 'he', 'him', 'his', 'himself', 'she', \"she's\", 'her', 'hers', 'herself', 'it', \"it's\", 'its', 'itself', 'they', 'them', 'their', 'theirs', 'themselves', 'what', 'which', 'who', 'whom', 'this', 'that', \"that'll\", 'these', 'those', 'am', 'is', 'are', 'was', 'were', 'be', 'been', 'being', 'have', 'has', 'had', 'having', 'do', 'does', 'did', 'doing', 'a', 'an', 'the', 'and', 'but', 'if', 'or', 'because', 'as', 'until', 'while', 'of', 'at', 'by', 'for', 'with', 'about', 'against', 'between', 'into', 'through', 'during', 'before', 'after', 'above', 'below', 'to', 'from', 'up', 'down', 'in', 'out', 'on', 'off', 'over', 'under', 'again', 'further', 'then', 'once', 'here', 'there', 'when', 'where', 'why', 'how', 'all', 'any', 'both', 'each', 'few', 'more', 'most', 'other', 'some', 'such', 'no', 'nor', 'not', 'only', 'own', 'same', 'so', 'than', 'too', 'very', 's', 't', 'can', 'will', 'just', 'don', \"don't\", 'should', \"should've\", 'now', 'd', 'll', 'm', 'o', 're', 've', 'y', 'ain', 'aren', \"aren't\", 'couldn', \"couldn't\", 'didn', \"didn't\", 'doesn', \"doesn't\", 'hadn', \"hadn't\", 'hasn', \"hasn't\", 'haven', \"haven't\", 'isn', \"isn't\", 'ma', 'mightn', \"mightn't\", 'mustn', \"mustn't\", 'needn', \"needn't\", 'shan', \"shan't\", 'shouldn', \"shouldn't\", 'wasn', \"wasn't\", 'weren', \"weren't\", 'won', \"won't\", 'wouldn', \"wouldn't\"]\n"
          ]
        },
        {
          "output_type": "stream",
          "name": "stderr",
          "text": [
            "[nltk_data] Downloading package stopwords to /root/nltk_data...\n",
            "[nltk_data]   Package stopwords is already up-to-date!\n"
          ]
        }
      ]
    },
    {
      "cell_type": "code",
      "source": [
        "filtered_tokens=[]\n",
        "for word in token_list:\n",
        "  for i in range(0, len(word)):\n",
        "    token = word[i]\n",
        "    token = token.lower()\n",
        "    if token not in stop_words:\n",
        "      filtered_tokens.append(token)\n",
        "print(filtered_tokens)"
      ],
      "metadata": {
        "colab": {
          "base_uri": "https://localhost:8080/"
        },
        "id": "hzxYSlwXVRyQ",
        "outputId": "cb7a5e04-50aa-464a-dbc5-2ea74c6841f4"
      },
      "execution_count": 4,
      "outputs": [
        {
          "output_type": "stream",
          "name": "stdout",
          "text": [
            "['friendship', 'sought', 'sake', 'utility', 'customer', 'important', 'customer', 'followed', 'customer', 'therefore', 'contribution', 'help', 'honest', 'speech', 'socratic', 'even', 'platos', 'first', 'power', 'remember', 'two', 'kings', 'construction', 'internet', 'also', 'pleasant', 'memory', 'bad', 'past', 'indeed', 'said', 'would', 'take', 'leave', 'popular', 'report', 'although', 'permissible', 'read', 'think', 'highest', 'good', 'called', 'pleasure', 'refers', 'however', 'manner', 'see', 'follows', 'contradicts', 'neglected', 'absurdity', 'greatest', 'evil', 'equally', 'happens', 'believers', 'discontented', 'customer', 'important', 'customer', 'followed', 'customer', 'things', 'result', 'nothing', 'evil', 'shameful', 'ours—and', 'mean', 'art—to', 'principles', 'received', 'complete', 'opposite', 'two', 'kings', 'construction', 'internet', 'passage', 'piso', 'confirmed', 'say', 'although', 'perverted', 'may', 'still', 'perverted', 'take', 'institutions', 'two', 'lives', 'asking', 'villain', 'clever', 'villain', 'q', 'indeed', 'hear', 'voice', 'philosopher', 'epicurus', 'forgotten', 'say', 'difficulty', 'accius', 'says', 'deceitful', 'talkers', 'born', 'malice', 'many', 'bad', 'feelings', 'things', 'pleasures', 'produced', 'power', 'wise', 'unlike', 'man', 'proverbs', 'truer', 'dogmas', 'anything', 'besides', 'virtue', 'considered', 'goods', 'clearly', 'says', 'understands', 'paulus', 'bringing', 'persian', 'king', 'captive', 'transported', 'river', 'thus', 'affected', 'never', 'prove', 'happy', 'much', 'every', 'one', 'able', 'depart', 'loses', 'appetite', 'things', 'conducive', 'believe', 'mean', 'relatives', 'sirone', 'philodemus', 'excellent', 'men', 'learned', 'men', 'dont', 'expect', 'thing', 'resisting', 'thus', 'leave', 'two', 'consider', 'let', 'us', 'see', 'said', 'friendship', 'things', 'remain', 'different', 'way', 'point', 'speaking', 'gloriously', 'except', 'speak', 'constantly', 'former', 'kind', 'docility', 'memory', 'says', 'things', 'important', 'cannot', 'lived', 'means', 'blessed', 'said', 'think', 'judgment', 'beasts', 'descent', 'tiber', 'festival', 'day', 'caused', 'much', 'joy', 'much', 'l', 'nothing', 'thought', 'done', 'without', 'cause', 'three', 'kinds', 'goods', 'tell', 'pleasure', 'course', 'know', 'nothing', 'trust', 'prove', 'mean', 'says', 'perfectly', 'coherent', 'say', 'torquatus', 'try', 'go', 'archyta', 'tarentum', 'indicate', 'children', 'nature', 'seen', 'mirrors', 'still', 'something', 'permitted', 'us', 'permitted', 'pain', 'usually', 'mitigated', 'fuel', 'strength', 'greatness', 'mind', 'patience', 'fortitude', 'way', 'best', 'husband', 'know', 'loving', 'altogether', 'says', 'say', 'without', 'pain', 'pleasure', 'indeed', 'highest', 'rather', 'inflames', 'seem', 'controlling', 'rather', 'teaching', 'pain', 'usually', 'mitigated', 'fuel', 'strength', 'greatness', 'mind', 'patience', 'fortitude', 'almost', 'things', 'called', 'one', 'name', 'genius', 'virtues', 'called', 'geniuses', 'neither', 'righteous', 'long', 'fears', 'certainly', 'ceases', 'fear', 'indeed', 'criticize', 'customer', 'important', 'customer', 'followed', 'customer', 'nature', 'rightly', 'answered', 'true', 'end', 'happy', 'life', 'come', 'another', 'principles', 'conduct', 'sought', 'oneself', 'things', 'yet', 'brought', 'forth', 'popular', 'want', 'refinements', 'two', 'kings', 'construction', 'internet', 'lucius', 'things', 'approved', 'think', 'also', 'brother', 'think', 'judgment', 'beasts', 'longer', 'anything', 'refer', 'body', 'first', 'thing', 'usually', 'meeting', 'shall', 'say', 'man', 'much', 'living', 'beings', 'given', 'nothing', 'especially', 'nature', 'neglected', 'absurdity', 'greatest', 'evil', 'pretending', 'occur', 'defeat', 'ariston', 'clear', 'man', 'consists', 'body', 'mind', 'since', 'first', 'parts', 'soul', 'second', 'parts', 'body', 'cannot', 'done', 'say', 'agreement', 'say', 'prove', 'disagree', 'indeed', 'cn', 'doubt', 'virtue', 'take', 'large', 'part', 'human', 'affairs', 'overwhelms', 'rest', 'afraid', 'pain', 'cant', 'stay', 'high', 'pain', 'several', 'days', 'virtue', 'say', 'doubt', 'blessed', 'tubulum', 'whose', 'proposal', 'condemned', 'p', 'know', 'works', 'philosophy', 'given', 'writings', 'institutions', 'liberal', 'doctrine', 'history', 'follows', 'thing', 'see', 'wish', 'always', 'happy', 'wise', 'delivered', 'like', 'torrent', 'prayer', 'although', 'seizes', 'many', 'things', 'every', 'kind', 'yet', 'hold', 'nothing', 'grasp', 'nothing', 'never', 'check', 'rapid', 'prayer', 'thus', 'rebuked', 'writings', 'convinced', 'honesty', 'character', 'much', 'try', 'world', 'town', 'see', 'therefore', 'hear', 'set', 'fire', 'take', 'care', 'say', 'matter', 'seems', 'give', 'new', 'names', 'things', 'send', 'search', 'truth', 'falsely', 'said', 'deprived', 'eyes', 'evils', 'wise', 'man', 'may', 'fall', 'enough', 'wise', 'live', 'happily', 'indeed', 'sense', 'comes', 'vine', 'certain', 'appetite', 'moved', 'think', 'keep', 'may', 'take', 'away', 'cicero', 'also', 'fools', 'tormented', 'memory', 'evils', 'wise', 'men', 'delight', 'renewed', 'remembrance', 'good', 'things', 'past', 'could', 'unjust', 'wished', 'nature', 'first', 'institution', 'forgotten', 'true', 'however', 'speak', 'greater', 'things', 'things', 'snatch', 'away', 'words', 'means', 'heart', 'even', 'palate', 'called', 'pleasure', 'highest', 'good', 'first', 'saw', 'little', 'also', 'something', 'alien', 'said', 'well', 'latin', 'little', 'plainly', 'things', 'ready', 'heard', 'attack', 'see', 'instructed', 'speak', 'stoics', 'admit', 'said', 'clearly', 'cause', 'zenos', 'disobedience', 'therefore', 'even', 'indeed', 'reason', 'compelling', 'heard', 'antiochus', 'brute', 'used', 'clever', 'best', 'architect', 'pleasures', 'pleasant', 'seems', 'delicate', 'speak', 'softer', 'reason', 'strength', 'gravity', 'virtue', 'demands', 'since', 'getting', 'late', 'return', 'village', 'indeed', 'philosophers', 'call', 'true', 'reason', 'supreme', 'law', 'appropriate', 'nature', 'said', 'common', 'also', 'equal']\n"
          ]
        }
      ]
    },
    {
      "cell_type": "code",
      "source": [
        "unique_token=[]\n",
        "for i in filtered_tokens:\n",
        "  if i not in unique_token:\n",
        "    unique_token.append(i)\n",
        "print(unique_token)"
      ],
      "metadata": {
        "colab": {
          "base_uri": "https://localhost:8080/"
        },
        "id": "ONKZAO4uZcnf",
        "outputId": "e1800d2a-9bfd-4df9-a707-e2cc8fe3cec1"
      },
      "execution_count": 5,
      "outputs": [
        {
          "output_type": "stream",
          "name": "stdout",
          "text": [
            "['friendship', 'sought', 'sake', 'utility', 'customer', 'important', 'followed', 'therefore', 'contribution', 'help', 'honest', 'speech', 'socratic', 'even', 'platos', 'first', 'power', 'remember', 'two', 'kings', 'construction', 'internet', 'also', 'pleasant', 'memory', 'bad', 'past', 'indeed', 'said', 'would', 'take', 'leave', 'popular', 'report', 'although', 'permissible', 'read', 'think', 'highest', 'good', 'called', 'pleasure', 'refers', 'however', 'manner', 'see', 'follows', 'contradicts', 'neglected', 'absurdity', 'greatest', 'evil', 'equally', 'happens', 'believers', 'discontented', 'things', 'result', 'nothing', 'shameful', 'ours—and', 'mean', 'art—to', 'principles', 'received', 'complete', 'opposite', 'passage', 'piso', 'confirmed', 'say', 'perverted', 'may', 'still', 'institutions', 'lives', 'asking', 'villain', 'clever', 'q', 'hear', 'voice', 'philosopher', 'epicurus', 'forgotten', 'difficulty', 'accius', 'says', 'deceitful', 'talkers', 'born', 'malice', 'many', 'feelings', 'pleasures', 'produced', 'wise', 'unlike', 'man', 'proverbs', 'truer', 'dogmas', 'anything', 'besides', 'virtue', 'considered', 'goods', 'clearly', 'understands', 'paulus', 'bringing', 'persian', 'king', 'captive', 'transported', 'river', 'thus', 'affected', 'never', 'prove', 'happy', 'much', 'every', 'one', 'able', 'depart', 'loses', 'appetite', 'conducive', 'believe', 'relatives', 'sirone', 'philodemus', 'excellent', 'men', 'learned', 'dont', 'expect', 'thing', 'resisting', 'consider', 'let', 'us', 'remain', 'different', 'way', 'point', 'speaking', 'gloriously', 'except', 'speak', 'constantly', 'former', 'kind', 'docility', 'cannot', 'lived', 'means', 'blessed', 'judgment', 'beasts', 'descent', 'tiber', 'festival', 'day', 'caused', 'joy', 'l', 'thought', 'done', 'without', 'cause', 'three', 'kinds', 'tell', 'course', 'know', 'trust', 'perfectly', 'coherent', 'torquatus', 'try', 'go', 'archyta', 'tarentum', 'indicate', 'children', 'nature', 'seen', 'mirrors', 'something', 'permitted', 'pain', 'usually', 'mitigated', 'fuel', 'strength', 'greatness', 'mind', 'patience', 'fortitude', 'best', 'husband', 'loving', 'altogether', 'rather', 'inflames', 'seem', 'controlling', 'teaching', 'almost', 'name', 'genius', 'virtues', 'geniuses', 'neither', 'righteous', 'long', 'fears', 'certainly', 'ceases', 'fear', 'criticize', 'rightly', 'answered', 'true', 'end', 'life', 'come', 'another', 'conduct', 'oneself', 'yet', 'brought', 'forth', 'want', 'refinements', 'lucius', 'approved', 'brother', 'longer', 'refer', 'body', 'meeting', 'shall', 'living', 'beings', 'given', 'especially', 'pretending', 'occur', 'defeat', 'ariston', 'clear', 'consists', 'since', 'parts', 'soul', 'second', 'agreement', 'disagree', 'cn', 'doubt', 'large', 'part', 'human', 'affairs', 'overwhelms', 'rest', 'afraid', 'cant', 'stay', 'high', 'several', 'days', 'tubulum', 'whose', 'proposal', 'condemned', 'p', 'works', 'philosophy', 'writings', 'liberal', 'doctrine', 'history', 'wish', 'always', 'delivered', 'like', 'torrent', 'prayer', 'seizes', 'hold', 'grasp', 'check', 'rapid', 'rebuked', 'convinced', 'honesty', 'character', 'world', 'town', 'set', 'fire', 'care', 'matter', 'seems', 'give', 'new', 'names', 'send', 'search', 'truth', 'falsely', 'deprived', 'eyes', 'evils', 'fall', 'enough', 'live', 'happily', 'sense', 'comes', 'vine', 'certain', 'moved', 'keep', 'away', 'cicero', 'fools', 'tormented', 'delight', 'renewed', 'remembrance', 'could', 'unjust', 'wished', 'institution', 'greater', 'snatch', 'words', 'heart', 'palate', 'saw', 'little', 'alien', 'well', 'latin', 'plainly', 'ready', 'heard', 'attack', 'instructed', 'stoics', 'admit', 'zenos', 'disobedience', 'reason', 'compelling', 'antiochus', 'brute', 'used', 'architect', 'delicate', 'softer', 'gravity', 'demands', 'getting', 'late', 'return', 'village', 'philosophers', 'call', 'supreme', 'law', 'appropriate', 'common', 'equal']\n"
          ]
        }
      ]
    },
    {
      "cell_type": "code",
      "source": [
        "def indexing(utk_list, index, q):\n",
        "#q should be the output list of Document() function\n",
        "#utk_list should be the output list of unique_words() function\n",
        "  for i in utk_list:\n",
        "    for j in range(0,len(q)):\n",
        "      if i in q[j]:\n",
        "        index[j].append(1)\n",
        "      else:\n",
        "        index[j].append(0)\n",
        "  return index"
      ],
      "metadata": {
        "id": "Crg09teL95rk"
      },
      "execution_count": 6,
      "outputs": []
    },
    {
      "cell_type": "code",
      "source": [
        "txt_lst=[]\n",
        "index=[]\n",
        "for i in range(1,len(doc_list)+1):\n",
        "  txt_lst.append(i)\n",
        "  a=[]\n",
        "  index.append(a)\n",
        "\n",
        "index_lst=indexing(unique_token, index, token_list)"
      ],
      "metadata": {
        "id": "BS4AlRxc-vVw"
      },
      "execution_count": 7,
      "outputs": []
    },
    {
      "cell_type": "code",
      "source": [
        "def data_frame(words, index, txt_lst):\n",
        "  df = pd.DataFrame(words, columns=['words'])\n",
        "  for i in range(0,len(txt_lst)):\n",
        "    df['DOC{d}'.format(d=txt_lst[i])]=index[i]\n",
        "  return df"
      ],
      "metadata": {
        "id": "2CXRAYwkCeE0"
      },
      "execution_count": 8,
      "outputs": []
    },
    {
      "cell_type": "code",
      "source": [
        "word_index=data_frame(unique_token, index_lst, txt_lst)\n",
        "word_index"
      ],
      "metadata": {
        "colab": {
          "base_uri": "https://localhost:8080/",
          "height": 424
        },
        "id": "qHRtANSqEjvH",
        "outputId": "8b8b1b43-1622-4151-e481-5a1b62062f6c"
      },
      "execution_count": 9,
      "outputs": [
        {
          "output_type": "execute_result",
          "data": {
            "text/plain": [
              "           words  DOC1  DOC2  DOC3\n",
              "0     friendship     0     1     0\n",
              "1         sought     1     0     1\n",
              "2           sake     1     0     0\n",
              "3        utility     1     0     0\n",
              "4       customer     1     1     1\n",
              "..           ...   ...   ...   ...\n",
              "374      supreme     0     0     1\n",
              "375          law     0     0     1\n",
              "376  appropriate     0     0     1\n",
              "377       common     0     0     1\n",
              "378        equal     0     0     1\n",
              "\n",
              "[379 rows x 4 columns]"
            ],
            "text/html": [
              "\n",
              "  <div id=\"df-441fe156-d788-4c52-8d22-66eb34a1e818\">\n",
              "    <div class=\"colab-df-container\">\n",
              "      <div>\n",
              "<style scoped>\n",
              "    .dataframe tbody tr th:only-of-type {\n",
              "        vertical-align: middle;\n",
              "    }\n",
              "\n",
              "    .dataframe tbody tr th {\n",
              "        vertical-align: top;\n",
              "    }\n",
              "\n",
              "    .dataframe thead th {\n",
              "        text-align: right;\n",
              "    }\n",
              "</style>\n",
              "<table border=\"1\" class=\"dataframe\">\n",
              "  <thead>\n",
              "    <tr style=\"text-align: right;\">\n",
              "      <th></th>\n",
              "      <th>words</th>\n",
              "      <th>DOC1</th>\n",
              "      <th>DOC2</th>\n",
              "      <th>DOC3</th>\n",
              "    </tr>\n",
              "  </thead>\n",
              "  <tbody>\n",
              "    <tr>\n",
              "      <th>0</th>\n",
              "      <td>friendship</td>\n",
              "      <td>0</td>\n",
              "      <td>1</td>\n",
              "      <td>0</td>\n",
              "    </tr>\n",
              "    <tr>\n",
              "      <th>1</th>\n",
              "      <td>sought</td>\n",
              "      <td>1</td>\n",
              "      <td>0</td>\n",
              "      <td>1</td>\n",
              "    </tr>\n",
              "    <tr>\n",
              "      <th>2</th>\n",
              "      <td>sake</td>\n",
              "      <td>1</td>\n",
              "      <td>0</td>\n",
              "      <td>0</td>\n",
              "    </tr>\n",
              "    <tr>\n",
              "      <th>3</th>\n",
              "      <td>utility</td>\n",
              "      <td>1</td>\n",
              "      <td>0</td>\n",
              "      <td>0</td>\n",
              "    </tr>\n",
              "    <tr>\n",
              "      <th>4</th>\n",
              "      <td>customer</td>\n",
              "      <td>1</td>\n",
              "      <td>1</td>\n",
              "      <td>1</td>\n",
              "    </tr>\n",
              "    <tr>\n",
              "      <th>...</th>\n",
              "      <td>...</td>\n",
              "      <td>...</td>\n",
              "      <td>...</td>\n",
              "      <td>...</td>\n",
              "    </tr>\n",
              "    <tr>\n",
              "      <th>374</th>\n",
              "      <td>supreme</td>\n",
              "      <td>0</td>\n",
              "      <td>0</td>\n",
              "      <td>1</td>\n",
              "    </tr>\n",
              "    <tr>\n",
              "      <th>375</th>\n",
              "      <td>law</td>\n",
              "      <td>0</td>\n",
              "      <td>0</td>\n",
              "      <td>1</td>\n",
              "    </tr>\n",
              "    <tr>\n",
              "      <th>376</th>\n",
              "      <td>appropriate</td>\n",
              "      <td>0</td>\n",
              "      <td>0</td>\n",
              "      <td>1</td>\n",
              "    </tr>\n",
              "    <tr>\n",
              "      <th>377</th>\n",
              "      <td>common</td>\n",
              "      <td>0</td>\n",
              "      <td>0</td>\n",
              "      <td>1</td>\n",
              "    </tr>\n",
              "    <tr>\n",
              "      <th>378</th>\n",
              "      <td>equal</td>\n",
              "      <td>0</td>\n",
              "      <td>0</td>\n",
              "      <td>1</td>\n",
              "    </tr>\n",
              "  </tbody>\n",
              "</table>\n",
              "<p>379 rows × 4 columns</p>\n",
              "</div>\n",
              "      <button class=\"colab-df-convert\" onclick=\"convertToInteractive('df-441fe156-d788-4c52-8d22-66eb34a1e818')\"\n",
              "              title=\"Convert this dataframe to an interactive table.\"\n",
              "              style=\"display:none;\">\n",
              "        \n",
              "  <svg xmlns=\"http://www.w3.org/2000/svg\" height=\"24px\"viewBox=\"0 0 24 24\"\n",
              "       width=\"24px\">\n",
              "    <path d=\"M0 0h24v24H0V0z\" fill=\"none\"/>\n",
              "    <path d=\"M18.56 5.44l.94 2.06.94-2.06 2.06-.94-2.06-.94-.94-2.06-.94 2.06-2.06.94zm-11 1L8.5 8.5l.94-2.06 2.06-.94-2.06-.94L8.5 2.5l-.94 2.06-2.06.94zm10 10l.94 2.06.94-2.06 2.06-.94-2.06-.94-.94-2.06-.94 2.06-2.06.94z\"/><path d=\"M17.41 7.96l-1.37-1.37c-.4-.4-.92-.59-1.43-.59-.52 0-1.04.2-1.43.59L10.3 9.45l-7.72 7.72c-.78.78-.78 2.05 0 2.83L4 21.41c.39.39.9.59 1.41.59.51 0 1.02-.2 1.41-.59l7.78-7.78 2.81-2.81c.8-.78.8-2.07 0-2.86zM5.41 20L4 18.59l7.72-7.72 1.47 1.35L5.41 20z\"/>\n",
              "  </svg>\n",
              "      </button>\n",
              "      \n",
              "  <style>\n",
              "    .colab-df-container {\n",
              "      display:flex;\n",
              "      flex-wrap:wrap;\n",
              "      gap: 12px;\n",
              "    }\n",
              "\n",
              "    .colab-df-convert {\n",
              "      background-color: #E8F0FE;\n",
              "      border: none;\n",
              "      border-radius: 50%;\n",
              "      cursor: pointer;\n",
              "      display: none;\n",
              "      fill: #1967D2;\n",
              "      height: 32px;\n",
              "      padding: 0 0 0 0;\n",
              "      width: 32px;\n",
              "    }\n",
              "\n",
              "    .colab-df-convert:hover {\n",
              "      background-color: #E2EBFA;\n",
              "      box-shadow: 0px 1px 2px rgba(60, 64, 67, 0.3), 0px 1px 3px 1px rgba(60, 64, 67, 0.15);\n",
              "      fill: #174EA6;\n",
              "    }\n",
              "\n",
              "    [theme=dark] .colab-df-convert {\n",
              "      background-color: #3B4455;\n",
              "      fill: #D2E3FC;\n",
              "    }\n",
              "\n",
              "    [theme=dark] .colab-df-convert:hover {\n",
              "      background-color: #434B5C;\n",
              "      box-shadow: 0px 1px 3px 1px rgba(0, 0, 0, 0.15);\n",
              "      filter: drop-shadow(0px 1px 2px rgba(0, 0, 0, 0.3));\n",
              "      fill: #FFFFFF;\n",
              "    }\n",
              "  </style>\n",
              "\n",
              "      <script>\n",
              "        const buttonEl =\n",
              "          document.querySelector('#df-441fe156-d788-4c52-8d22-66eb34a1e818 button.colab-df-convert');\n",
              "        buttonEl.style.display =\n",
              "          google.colab.kernel.accessAllowed ? 'block' : 'none';\n",
              "\n",
              "        async function convertToInteractive(key) {\n",
              "          const element = document.querySelector('#df-441fe156-d788-4c52-8d22-66eb34a1e818');\n",
              "          const dataTable =\n",
              "            await google.colab.kernel.invokeFunction('convertToInteractive',\n",
              "                                                     [key], {});\n",
              "          if (!dataTable) return;\n",
              "\n",
              "          const docLinkHtml = 'Like what you see? Visit the ' +\n",
              "            '<a target=\"_blank\" href=https://colab.research.google.com/notebooks/data_table.ipynb>data table notebook</a>'\n",
              "            + ' to learn more about interactive tables.';\n",
              "          element.innerHTML = '';\n",
              "          dataTable['output_type'] = 'display_data';\n",
              "          await google.colab.output.renderOutput(dataTable, element);\n",
              "          const docLink = document.createElement('div');\n",
              "          docLink.innerHTML = docLinkHtml;\n",
              "          element.appendChild(docLink);\n",
              "        }\n",
              "      </script>\n",
              "    </div>\n",
              "  </div>\n",
              "  "
            ]
          },
          "metadata": {},
          "execution_count": 9
        }
      ]
    },
    {
      "cell_type": "code",
      "source": [
        "query=input(\"Enter a word: \")\n",
        "print(word_index.loc[word_index[\"words\"] == query])"
      ],
      "metadata": {
        "colab": {
          "base_uri": "https://localhost:8080/"
        },
        "id": "pqmpln5UFyjK",
        "outputId": "6ecc7e39-0323-4dbc-800d-eec860d4b3ee"
      },
      "execution_count": 14,
      "outputs": [
        {
          "output_type": "stream",
          "name": "stdout",
          "text": [
            "Enter a word: important\n",
            "       words  DOC1  DOC2  DOC3\n",
            "5  important     1     1     1\n"
          ]
        }
      ]
    },
    {
      "cell_type": "code",
      "source": [],
      "metadata": {
        "id": "IaEFV29jKPgS"
      },
      "execution_count": null,
      "outputs": []
    }
  ]
}